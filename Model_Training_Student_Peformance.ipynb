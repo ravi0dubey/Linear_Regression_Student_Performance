{
 "cells": [
  {
   "cell_type": "code",
   "execution_count": 6,
   "id": "0f9d2b33",
   "metadata": {},
   "outputs": [],
   "source": [
    "import pandas as pd\n",
    "import numpy as np\n",
    "from sklearn.preprocessing import StandardScaler\n",
    "from sklearn.linear_model import Ridge,Lasso, RidgeCV, LassoCV, ElasticNet,ElasticNetCV, LinearRegression\n",
    "from sklearn.model_selection import train_test_split\n",
    "import statsmodels.api as sm\n",
    "import matplotlib.pyplot as plt\n",
    "import seaborn as sns\n",
    "from pandas_profiling import ProfileReport\n",
    "import pickle"
   ]
  },
  {
   "cell_type": "code",
   "execution_count": 7,
   "id": "f474a996",
   "metadata": {},
   "outputs": [
    {
     "data": {
      "text/html": [
       "<div>\n",
       "<style scoped>\n",
       "    .dataframe tbody tr th:only-of-type {\n",
       "        vertical-align: middle;\n",
       "    }\n",
       "\n",
       "    .dataframe tbody tr th {\n",
       "        vertical-align: top;\n",
       "    }\n",
       "\n",
       "    .dataframe thead th {\n",
       "        text-align: right;\n",
       "    }\n",
       "</style>\n",
       "<table border=\"1\" class=\"dataframe\">\n",
       "  <thead>\n",
       "    <tr style=\"text-align: right;\">\n",
       "      <th></th>\n",
       "      <th>0</th>\n",
       "      <th>1</th>\n",
       "      <th>2</th>\n",
       "      <th>3</th>\n",
       "      <th>4</th>\n",
       "      <th>5</th>\n",
       "      <th>6</th>\n",
       "      <th>7</th>\n",
       "      <th>8</th>\n",
       "      <th>9</th>\n",
       "      <th>10</th>\n",
       "      <th>11</th>\n",
       "      <th>12</th>\n",
       "      <th>13</th>\n",
       "      <th>14</th>\n",
       "      <th>15</th>\n",
       "      <th>16</th>\n",
       "      <th>math score</th>\n",
       "      <th>reading score</th>\n",
       "      <th>writing score</th>\n",
       "    </tr>\n",
       "  </thead>\n",
       "  <tbody>\n",
       "    <tr>\n",
       "      <th>0</th>\n",
       "      <td>1.0</td>\n",
       "      <td>0.0</td>\n",
       "      <td>0.0</td>\n",
       "      <td>1.0</td>\n",
       "      <td>0.0</td>\n",
       "      <td>0.0</td>\n",
       "      <td>0.0</td>\n",
       "      <td>0.0</td>\n",
       "      <td>1.0</td>\n",
       "      <td>0.0</td>\n",
       "      <td>0.0</td>\n",
       "      <td>0.0</td>\n",
       "      <td>0.0</td>\n",
       "      <td>0.0</td>\n",
       "      <td>1.0</td>\n",
       "      <td>0.0</td>\n",
       "      <td>1.0</td>\n",
       "      <td>0.381044</td>\n",
       "      <td>0.180350</td>\n",
       "      <td>0.385487</td>\n",
       "    </tr>\n",
       "    <tr>\n",
       "      <th>1</th>\n",
       "      <td>1.0</td>\n",
       "      <td>0.0</td>\n",
       "      <td>0.0</td>\n",
       "      <td>0.0</td>\n",
       "      <td>1.0</td>\n",
       "      <td>0.0</td>\n",
       "      <td>0.0</td>\n",
       "      <td>0.0</td>\n",
       "      <td>0.0</td>\n",
       "      <td>0.0</td>\n",
       "      <td>0.0</td>\n",
       "      <td>1.0</td>\n",
       "      <td>0.0</td>\n",
       "      <td>0.0</td>\n",
       "      <td>1.0</td>\n",
       "      <td>1.0</td>\n",
       "      <td>0.0</td>\n",
       "      <td>0.174067</td>\n",
       "      <td>1.451912</td>\n",
       "      <td>1.333961</td>\n",
       "    </tr>\n",
       "  </tbody>\n",
       "</table>\n",
       "</div>"
      ],
      "text/plain": [
       "     0    1    2    3    4    5    6    7    8    9   10   11   12   13   14  \\\n",
       "0  1.0  0.0  0.0  1.0  0.0  0.0  0.0  0.0  1.0  0.0  0.0  0.0  0.0  0.0  1.0   \n",
       "1  1.0  0.0  0.0  0.0  1.0  0.0  0.0  0.0  0.0  0.0  0.0  1.0  0.0  0.0  1.0   \n",
       "\n",
       "    15   16  math score  reading score  writing score  \n",
       "0  0.0  1.0    0.381044       0.180350       0.385487  \n",
       "1  1.0  0.0    0.174067       1.451912       1.333961  "
      ]
     },
     "execution_count": 7,
     "metadata": {},
     "output_type": "execute_result"
    }
   ],
   "source": [
    "df= pd.read_csv(\"D:\\Study\\Data Science\\Python\\ineuron\\Data_Set\\Student_dataset\\stud_clean_for_model.csv\")\n",
    "df.head(2)"
   ]
  },
  {
   "cell_type": "markdown",
   "id": "2779e423",
   "metadata": {},
   "source": [
    "## 1.1Storing Features in X and Y dataframe"
   ]
  },
  {
   "cell_type": "code",
   "execution_count": 8,
   "id": "b9022416",
   "metadata": {},
   "outputs": [],
   "source": [
    "# Y is our Dependent variable which we need to predict\n",
    "y = df['math score']\n",
    "\n",
    "# X contains our independent variable \n",
    "X= df.copy()\n",
    "X.drop(['math score','reading score','writing score'], axis= 1, inplace = True)"
   ]
  },
  {
   "cell_type": "markdown",
   "id": "b07c8d5f",
   "metadata": {},
   "source": [
    "## 1.2 Splitting the data into Train and Test\n"
   ]
  },
  {
   "cell_type": "code",
   "execution_count": 9,
   "id": "21b1921c",
   "metadata": {},
   "outputs": [],
   "source": [
    "# Training dataset which will be used to train our model is stored in X_train and y_train\n",
    "# Testing dataset which will be used to test our data or to get the score of the data is stored in X_test and y_test\n",
    "\n",
    "X_train, X_test, y_train, y_test = train_test_split(X, y, test_size=0.25, random_state=10)"
   ]
  },
  {
   "cell_type": "markdown",
   "id": "fca6017b",
   "metadata": {},
   "source": [
    "## 1.3 Creating Model using Training Data Set"
   ]
  },
  {
   "cell_type": "code",
   "execution_count": 10,
   "id": "7d05165a",
   "metadata": {},
   "outputs": [
    {
     "name": "stdout",
     "output_type": "stream",
     "text": [
      "Co-efficient value: [ 8.54451899e+12  8.54451899e+12  4.17454378e+13  4.17454378e+13\n",
      "  4.17454378e+13  4.17454378e+13  4.17454378e+13 -3.87843676e+12\n",
      " -3.87843676e+12 -3.87843676e+12 -3.87843676e+12 -3.87843676e+12\n",
      " -3.87843676e+12  5.23441760e+12  5.23441760e+12 -1.26367508e+13\n",
      " -1.26367508e+13]\n",
      "Linear Intercept value : -3.9e+13\n"
     ]
    }
   ],
   "source": [
    "#Creating an object of LinearRegression\n",
    "admission_linear_model =LinearRegression()\n",
    "\n",
    "#Generating Linear Model based on Feature TV and label Sale and fitting the model\n",
    "admission_linear_model.fit(X_train,y_train)\n",
    "\n",
    "#Calculating the co-efficient value\n",
    "m = admission_linear_model.coef_\n",
    "#Calculating the Intercept values\n",
    "c = admission_linear_model.intercept_\n",
    "\n",
    "\n",
    "print(f\"Co-efficient value: {m}\")\n",
    "print(f\"Linear Intercept value : {'{:.2}'.format(c)}\")"
   ]
  },
  {
   "cell_type": "code",
   "execution_count": 11,
   "id": "b147fcd1",
   "metadata": {},
   "outputs": [],
   "source": [
    "#dumping the model in pickle file which can be shared with others\n",
    "file = \"student_performance_linear_model_reg.sav\"\n",
    "pickle.dump(admission_linear_model,open(file,'wb'))"
   ]
  },
  {
   "cell_type": "markdown",
   "id": "141d3fe2",
   "metadata": {},
   "source": [
    "### 1.4 Getting the Accuracy or Score of the Model\n",
    "\n",
    "We will use Test data instead of training data to get the score of the model\n",
    "Which is basically the R-Square(R**2) \n",
    "\n",
    "R**2 =  1- (RSS/TSS) </br>\n",
    "R**2 =  1- (Residual sum of square/Total sum of square)"
   ]
  },
  {
   "cell_type": "code",
   "execution_count": 12,
   "id": "22cad56c",
   "metadata": {},
   "outputs": [
    {
     "name": "stdout",
     "output_type": "stream",
     "text": [
      "Score of our Linear Model(R**2) is: 24.21%\n"
     ]
    }
   ],
   "source": [
    "model_score = admission_linear_model.score(X_test,y_test)\n",
    "print(f\"Score of our Linear Model(R**2) is: {'{:.2%}'.format(model_score)}\")"
   ]
  },
  {
   "cell_type": "code",
   "execution_count": 13,
   "id": "32509b01",
   "metadata": {},
   "outputs": [],
   "source": [
    "# creating a function of Adjusted R2\n",
    "\n",
    "def adj_r2(x,y):\n",
    "    r2= admission_linear_model.score(x,y)\n",
    "    n= x.shape[0]\n",
    "    print(f\"Number of Elements in test data is : {n}\")\n",
    "    p = x.shape[1]\n",
    "    print(f\"Number of Predictors in test data is : {p}\")\n",
    "    adjusted_r2= 1-(1-r2)*(n-1)/(n-p-1)\n",
    "    return(adjusted_r2)"
   ]
  },
  {
   "cell_type": "code",
   "execution_count": 14,
   "id": "7da46090",
   "metadata": {},
   "outputs": [
    {
     "name": "stdout",
     "output_type": "stream",
     "text": [
      "Number of Elements in test data is : 250\n",
      "Number of Predictors in test data is : 17\n",
      "Score of our Linear Model(Adjusted R**2) : 18.65%\n"
     ]
    }
   ],
   "source": [
    "#printing adjusted_r2 score\n",
    "model_score = adj_r2(X_test,y_test)\n",
    "print(f\"Score of our Linear Model(Adjusted R**2) : {'{:.2%}'.format(model_score)}\")"
   ]
  },
  {
   "cell_type": "markdown",
   "id": "8d4acfeb",
   "metadata": {},
   "source": [
    "### 1.5 Improving the accuracy of the model\n",
    "\n",
    "1. While splitting the train and test data, we can change the random state, increase of decrease it, generally decrease is the right option\n",
    "2. we can change the test size, decreasing will be a good option\n",
    "3. Retrain the model and then find R2 and AdjustedR2"
   ]
  },
  {
   "cell_type": "markdown",
   "id": "b98ca087",
   "metadata": {},
   "source": [
    "### 1.5.1 Regularization using LASSO\n",
    "\n",
    "If we are able to control error term then we can generalize our mode </br>\n",
    "It limits the size of coefficients by adding a penalty which is equal to absolute value of magnitude of coefficients. </br>\n",
    "\n",
    "LASSO = Least Absolute Shrinkage Selection Operation also called as L1 Regularization </br>\n",
    "L1 = RSS + (Shrinkage Factor  * Summation of Coefficient)"
   ]
  },
  {
   "cell_type": "code",
   "execution_count": 15,
   "id": "8d257a61",
   "metadata": {},
   "outputs": [
    {
     "data": {
      "text/plain": [
       "LassoCV(cv=10, max_iter=20000000, normalize=True)"
      ]
     },
     "execution_count": 15,
     "metadata": {},
     "output_type": "execute_result"
    }
   ],
   "source": [
    "lassocv = LassoCV(alphas = None, cv=10,max_iter = 20000000, normalize = True)\n",
    "lassocv.fit(X_train,y_train)"
   ]
  },
  {
   "cell_type": "code",
   "execution_count": 16,
   "id": "3e7029f1",
   "metadata": {},
   "outputs": [
    {
     "data": {
      "text/plain": [
       "0.0003405513796162699"
      ]
     },
     "execution_count": 16,
     "metadata": {},
     "output_type": "execute_result"
    }
   ],
   "source": [
    "#it is the shrinkage factor also called as alpha\n",
    "lassocv.alpha_"
   ]
  },
  {
   "cell_type": "code",
   "execution_count": 17,
   "id": "488cba43",
   "metadata": {},
   "outputs": [
    {
     "data": {
      "text/plain": [
       "Lasso(alpha=0.0003405513796162699)"
      ]
     },
     "execution_count": 17,
     "metadata": {},
     "output_type": "execute_result"
    }
   ],
   "source": [
    "# create model Lasso using alpha value and fit the model using training dataset\n",
    "lasso = Lasso(alpha=lassocv.alpha_)\n",
    "lasso.fit(X_train,y_train)"
   ]
  },
  {
   "cell_type": "code",
   "execution_count": 18,
   "id": "b9c598dc",
   "metadata": {},
   "outputs": [
    {
     "name": "stdout",
     "output_type": "stream",
     "text": [
      "Score of our Linear Model after regularization : 24.05%\n"
     ]
    }
   ],
   "source": [
    "#test the ridge model using  test data\n",
    "model_score_regularization = lasso.score(X_test,y_test)\n",
    "\n",
    "# Get the score of the Lasso model\n",
    "print(f\"Score of our Linear Model after regularization : {'{:.2%}'.format(model_score_regularization)}\")"
   ]
  },
  {
   "cell_type": "markdown",
   "id": "e6c5dfb5",
   "metadata": {},
   "source": [
    "# Step "
   ]
  },
  {
   "cell_type": "code",
   "execution_count": 27,
   "id": "58a68d41",
   "metadata": {},
   "outputs": [
    {
     "name": "stdout",
     "output_type": "stream",
     "text": [
      "Requirement already satisfied: catboost in c:\\users\\ravi0dubey\\anaconda3\\lib\\site-packages (1.1)\n",
      "Requirement already satisfied: numpy>=1.16.0 in c:\\users\\ravi0dubey\\anaconda3\\lib\\site-packages (from catboost) (1.20.3)\n",
      "Requirement already satisfied: graphviz in c:\\users\\ravi0dubey\\anaconda3\\lib\\site-packages (from catboost) (0.20.1)\n",
      "Requirement already satisfied: matplotlib in c:\\users\\ravi0dubey\\anaconda3\\lib\\site-packages (from catboost) (3.4.3)\n",
      "Requirement already satisfied: pandas>=0.24.0 in c:\\users\\ravi0dubey\\anaconda3\\lib\\site-packages (from catboost) (1.1.5)\n",
      "Requirement already satisfied: plotly in c:\\users\\ravi0dubey\\anaconda3\\lib\\site-packages (from catboost) (5.6.0)\n",
      "Requirement already satisfied: scipy in c:\\users\\ravi0dubey\\anaconda3\\lib\\site-packages (from catboost) (1.7.1)\n",
      "Requirement already satisfied: six in c:\\users\\ravi0dubey\\anaconda3\\lib\\site-packages (from catboost) (1.16.0)\n",
      "Requirement already satisfied: python-dateutil>=2.7.3 in c:\\users\\ravi0dubey\\anaconda3\\lib\\site-packages (from pandas>=0.24.0->catboost) (2.8.2)\n",
      "Requirement already satisfied: pytz>=2017.2 in c:\\users\\ravi0dubey\\anaconda3\\lib\\site-packages (from pandas>=0.24.0->catboost) (2021.3)\n",
      "Requirement already satisfied: pillow>=6.2.0 in c:\\users\\ravi0dubey\\anaconda3\\lib\\site-packages (from matplotlib->catboost) (8.4.0)\n",
      "Requirement already satisfied: pyparsing>=2.2.1 in c:\\users\\ravi0dubey\\anaconda3\\lib\\site-packages (from matplotlib->catboost) (3.0.4)\n",
      "Requirement already satisfied: kiwisolver>=1.0.1 in c:\\users\\ravi0dubey\\anaconda3\\lib\\site-packages (from matplotlib->catboost) (1.3.1)\n",
      "Requirement already satisfied: cycler>=0.10 in c:\\users\\ravi0dubey\\anaconda3\\lib\\site-packages (from matplotlib->catboost) (0.10.0)\n",
      "Requirement already satisfied: tenacity>=6.2.0 in c:\\users\\ravi0dubey\\anaconda3\\lib\\site-packages (from plotly->catboost) (8.0.1)\n"
     ]
    }
   ],
   "source": [
    "!pip install catboost"
   ]
  },
  {
   "cell_type": "code",
   "execution_count": 28,
   "id": "d1288808",
   "metadata": {},
   "outputs": [
    {
     "name": "stdout",
     "output_type": "stream",
     "text": [
      "Requirement already satisfied: xgboost in c:\\users\\ravi0dubey\\anaconda3\\lib\\site-packages (1.6.2)\n",
      "Requirement already satisfied: scipy in c:\\users\\ravi0dubey\\anaconda3\\lib\\site-packages (from xgboost) (1.7.1)\n",
      "Requirement already satisfied: numpy in c:\\users\\ravi0dubey\\anaconda3\\lib\\site-packages (from xgboost) (1.20.3)\n"
     ]
    }
   ],
   "source": [
    "!pip install xgboost"
   ]
  },
  {
   "cell_type": "code",
   "execution_count": 29,
   "id": "432b26dc",
   "metadata": {},
   "outputs": [],
   "source": [
    "# Basic Import\n",
    "import numpy as np\n",
    "import pandas as pd\n",
    "import matplotlib.pyplot as plt \n",
    "import seaborn as sns\n",
    "# Modelling\n",
    "from sklearn.metrics import mean_squared_error, r2_score\n",
    "from sklearn.neighbors import KNeighborsRegressor\n",
    "from sklearn.tree import DecisionTreeRegressor\n",
    "from sklearn.ensemble import RandomForestRegressor,AdaBoostRegressor\n",
    "from sklearn.svm import SVR\n",
    "from sklearn.linear_model import LinearRegression, Ridge,Lasso\n",
    "from sklearn.metrics import r2_score, mean_absolute_error, mean_squared_error\n",
    "from sklearn.model_selection import RandomizedSearchCV\n",
    "from catboost import CatBoostRegressor\n",
    "from xgboost import XGBRegressor\n",
    "import warnings"
   ]
  },
  {
   "cell_type": "code",
   "execution_count": 36,
   "id": "e66392c7",
   "metadata": {},
   "outputs": [
    {
     "data": {
      "text/html": [
       "<div>\n",
       "<style scoped>\n",
       "    .dataframe tbody tr th:only-of-type {\n",
       "        vertical-align: middle;\n",
       "    }\n",
       "\n",
       "    .dataframe tbody tr th {\n",
       "        vertical-align: top;\n",
       "    }\n",
       "\n",
       "    .dataframe thead th {\n",
       "        text-align: right;\n",
       "    }\n",
       "</style>\n",
       "<table border=\"1\" class=\"dataframe\">\n",
       "  <thead>\n",
       "    <tr style=\"text-align: right;\">\n",
       "      <th></th>\n",
       "      <th>gender</th>\n",
       "      <th>race/ethnicity</th>\n",
       "      <th>parental level of education</th>\n",
       "      <th>lunch</th>\n",
       "      <th>test preparation course</th>\n",
       "      <th>math score</th>\n",
       "      <th>reading score</th>\n",
       "      <th>writing score</th>\n",
       "      <th>total score</th>\n",
       "      <th>average</th>\n",
       "    </tr>\n",
       "  </thead>\n",
       "  <tbody>\n",
       "    <tr>\n",
       "      <th>0</th>\n",
       "      <td>female</td>\n",
       "      <td>group B</td>\n",
       "      <td>bachelor's degree</td>\n",
       "      <td>standard</td>\n",
       "      <td>none</td>\n",
       "      <td>72</td>\n",
       "      <td>72</td>\n",
       "      <td>74</td>\n",
       "      <td>218</td>\n",
       "      <td>72.666667</td>\n",
       "    </tr>\n",
       "    <tr>\n",
       "      <th>1</th>\n",
       "      <td>female</td>\n",
       "      <td>group C</td>\n",
       "      <td>some college</td>\n",
       "      <td>standard</td>\n",
       "      <td>completed</td>\n",
       "      <td>69</td>\n",
       "      <td>90</td>\n",
       "      <td>88</td>\n",
       "      <td>247</td>\n",
       "      <td>82.333333</td>\n",
       "    </tr>\n",
       "  </tbody>\n",
       "</table>\n",
       "</div>"
      ],
      "text/plain": [
       "   gender race/ethnicity parental level of education     lunch  \\\n",
       "0  female        group B           bachelor's degree  standard   \n",
       "1  female        group C                some college  standard   \n",
       "\n",
       "  test preparation course  math score  reading score  writing score  \\\n",
       "0                    none          72             72             74   \n",
       "1               completed          69             90             88   \n",
       "\n",
       "   total score    average  \n",
       "0          218  72.666667  \n",
       "1          247  82.333333  "
      ]
     },
     "execution_count": 36,
     "metadata": {},
     "output_type": "execute_result"
    }
   ],
   "source": [
    "df1= pd.read_csv(\"D:\\Study\\Data Science\\Python\\ineuron\\Data_Set\\Student_dataset\\outlier_removed.csv\")\n",
    "df1.head(2)"
   ]
  },
  {
   "cell_type": "code",
   "execution_count": 37,
   "id": "6046e651",
   "metadata": {},
   "outputs": [],
   "source": [
    "X = df.drop(columns=['math score'],axis=1)"
   ]
  },
  {
   "cell_type": "code",
   "execution_count": 38,
   "id": "530454e8",
   "metadata": {},
   "outputs": [],
   "source": [
    "y = df['math score']"
   ]
  },
  {
   "cell_type": "code",
   "execution_count": 39,
   "id": "19d08f0d",
   "metadata": {},
   "outputs": [],
   "source": [
    "# Create Column Transformer with 3 types of transformers\n",
    "num_features = X.select_dtypes(exclude=\"object\").columns\n",
    "cat_features = X.select_dtypes(include=\"object\").columns\n",
    "\n",
    "from sklearn.preprocessing import OneHotEncoder, StandardScaler\n",
    "from sklearn.compose import ColumnTransformer\n",
    "\n",
    "numeric_transformer = StandardScaler()\n",
    "oh_transformer = OneHotEncoder()\n",
    "\n",
    "preprocessor = ColumnTransformer(\n",
    "    [\n",
    "        (\"OneHotEncoder\", oh_transformer, cat_features),\n",
    "         (\"StandardScaler\", numeric_transformer, num_features),        \n",
    "    ]\n",
    ")"
   ]
  },
  {
   "cell_type": "code",
   "execution_count": 40,
   "id": "6b847a31",
   "metadata": {},
   "outputs": [],
   "source": [
    "X = preprocessor.fit_transform(X)"
   ]
  },
  {
   "cell_type": "code",
   "execution_count": 41,
   "id": "9358cdbf",
   "metadata": {},
   "outputs": [
    {
     "data": {
      "text/plain": [
       "((800, 19), (200, 19))"
      ]
     },
     "execution_count": 41,
     "metadata": {},
     "output_type": "execute_result"
    }
   ],
   "source": [
    "# separate dataset into train and test\n",
    "X_train, X_test, y_train, y_test = train_test_split(X,y,test_size=0.2,random_state=42)\n",
    "X_train.shape, X_test.shape"
   ]
  },
  {
   "cell_type": "code",
   "execution_count": 42,
   "id": "0f246eac",
   "metadata": {},
   "outputs": [],
   "source": [
    "def evaluate_model(true, predicted):\n",
    "    mae = mean_absolute_error(true, predicted)\n",
    "    mse = mean_squared_error(true, predicted)\n",
    "    rmse = np.sqrt(mean_squared_error(true, predicted))\n",
    "    r2_square = r2_score(true, predicted)\n",
    "    return mae, rmse, r2_square"
   ]
  },
  {
   "cell_type": "code",
   "execution_count": 43,
   "id": "9b7175d3",
   "metadata": {},
   "outputs": [
    {
     "name": "stdout",
     "output_type": "stream",
     "text": [
      "Linear Regression\n",
      "Model performance for Training set\n",
      "- Root Mean Squared Error: 0.4387\n",
      "- Mean Absolute Error: 0.3150\n",
      "- R2 Score: 0.8065\n",
      "----------------------------------\n",
      "Model performance for Test set\n",
      "- Root Mean Squared Error: 0.5201\n",
      "- Mean Absolute Error: 0.3309\n",
      "- R2 Score: 0.7318\n",
      "===================================\n",
      "\n",
      "\n",
      "Lasso\n",
      "Model performance for Training set\n",
      "- Root Mean Squared Error: 0.9973\n",
      "- Mean Absolute Error: 0.8007\n",
      "- R2 Score: 0.0000\n",
      "----------------------------------\n",
      "Model performance for Test set\n",
      "- Root Mean Squared Error: 1.0122\n",
      "- Mean Absolute Error: 0.8133\n",
      "- R2 Score: -0.0155\n",
      "===================================\n",
      "\n",
      "\n",
      "Ridge\n",
      "Model performance for Training set\n",
      "- Root Mean Squared Error: 0.4387\n",
      "- Mean Absolute Error: 0.3151\n",
      "- R2 Score: 0.8065\n",
      "----------------------------------\n",
      "Model performance for Test set\n",
      "- Root Mean Squared Error: 0.5198\n",
      "- Mean Absolute Error: 0.3308\n",
      "- R2 Score: 0.7321\n",
      "===================================\n",
      "\n",
      "\n",
      "K-Neighbors Regressor\n",
      "Model performance for Training set\n",
      "- Root Mean Squared Error: 0.5735\n",
      "- Mean Absolute Error: 0.4548\n",
      "- R2 Score: 0.6693\n",
      "----------------------------------\n",
      "Model performance for Test set\n",
      "- Root Mean Squared Error: 0.7832\n",
      "- Mean Absolute Error: 0.5928\n",
      "- R2 Score: 0.3920\n",
      "===================================\n",
      "\n",
      "\n",
      "Decision Tree\n",
      "Model performance for Training set\n",
      "- Root Mean Squared Error: 0.0593\n",
      "- Mean Absolute Error: 0.0034\n",
      "- R2 Score: 0.9965\n",
      "----------------------------------\n",
      "Model performance for Test set\n",
      "- Root Mean Squared Error: 0.6091\n",
      "- Mean Absolute Error: 0.4505\n",
      "- R2 Score: 0.6322\n",
      "===================================\n",
      "\n",
      "\n",
      "Random Forest Regressor\n",
      "Model performance for Training set\n",
      "- Root Mean Squared Error: 0.1763\n",
      "- Mean Absolute Error: 0.1330\n",
      "- R2 Score: 0.9688\n",
      "----------------------------------\n",
      "Model performance for Test set\n",
      "- Root Mean Squared Error: 0.5382\n",
      "- Mean Absolute Error: 0.3648\n",
      "- R2 Score: 0.7129\n",
      "===================================\n",
      "\n",
      "\n",
      "XGBRegressor\n",
      "Model performance for Training set\n",
      "- Root Mean Squared Error: 0.0812\n",
      "- Mean Absolute Error: 0.0419\n",
      "- R2 Score: 0.9934\n",
      "----------------------------------\n",
      "Model performance for Test set\n",
      "- Root Mean Squared Error: 0.5742\n",
      "- Mean Absolute Error: 0.4073\n",
      "- R2 Score: 0.6732\n",
      "===================================\n",
      "\n",
      "\n",
      "CatBoosting Regressor\n",
      "Model performance for Training set\n",
      "- Root Mean Squared Error: 0.2216\n",
      "- Mean Absolute Error: 0.1664\n",
      "- R2 Score: 0.9506\n",
      "----------------------------------\n",
      "Model performance for Test set\n",
      "- Root Mean Squared Error: 0.5260\n",
      "- Mean Absolute Error: 0.3471\n",
      "- R2 Score: 0.7258\n",
      "===================================\n",
      "\n",
      "\n",
      "AdaBoost Regressor\n",
      "Model performance for Training set\n",
      "- Root Mean Squared Error: 0.4644\n",
      "- Mean Absolute Error: 0.3767\n",
      "- R2 Score: 0.7832\n",
      "----------------------------------\n",
      "Model performance for Test set\n",
      "- Root Mean Squared Error: 0.5517\n",
      "- Mean Absolute Error: 0.3977\n",
      "- R2 Score: 0.6983\n",
      "===================================\n",
      "\n",
      "\n"
     ]
    }
   ],
   "source": [
    "models = {\n",
    "    \"Linear Regression\": LinearRegression(),\n",
    "    \"Lasso\": Lasso(),\n",
    "    \"Ridge\": Ridge(),\n",
    "    \"K-Neighbors Regressor\": KNeighborsRegressor(),\n",
    "    \"Decision Tree\": DecisionTreeRegressor(),\n",
    "    \"Random Forest Regressor\": RandomForestRegressor(),\n",
    "    \"XGBRegressor\": XGBRegressor(), \n",
    "    \"CatBoosting Regressor\": CatBoostRegressor(verbose=False),\n",
    "    \"AdaBoost Regressor\": AdaBoostRegressor()\n",
    "}\n",
    "model_list = []\n",
    "r2_list =[]\n",
    "\n",
    "for i in range(len(list(models))):\n",
    "    model = list(models.values())[i]\n",
    "    model.fit(X_train, y_train) # Train model\n",
    "\n",
    "    # Make predictions\n",
    "    y_train_pred = model.predict(X_train)\n",
    "    y_test_pred = model.predict(X_test)\n",
    "    \n",
    "    # Evaluate Train and Test dataset\n",
    "    model_train_mae , model_train_rmse, model_train_r2 = evaluate_model(y_train, y_train_pred)\n",
    "\n",
    "    model_test_mae , model_test_rmse, model_test_r2 = evaluate_model(y_test, y_test_pred)\n",
    "\n",
    "    \n",
    "    print(list(models.keys())[i])\n",
    "    model_list.append(list(models.keys())[i])\n",
    "    \n",
    "    print('Model performance for Training set')\n",
    "    print(\"- Root Mean Squared Error: {:.4f}\".format(model_train_rmse))\n",
    "    print(\"- Mean Absolute Error: {:.4f}\".format(model_train_mae))\n",
    "    print(\"- R2 Score: {:.4f}\".format(model_train_r2))\n",
    "\n",
    "    print('----------------------------------')\n",
    "    \n",
    "    print('Model performance for Test set')\n",
    "    print(\"- Root Mean Squared Error: {:.4f}\".format(model_test_rmse))\n",
    "    print(\"- Mean Absolute Error: {:.4f}\".format(model_test_mae))\n",
    "    print(\"- R2 Score: {:.4f}\".format(model_test_r2))\n",
    "    r2_list.append(model_test_r2)\n",
    "    \n",
    "    print('='*35)\n",
    "    print('\\n')"
   ]
  },
  {
   "cell_type": "markdown",
   "id": "33646a91",
   "metadata": {},
   "source": [
    "### Results"
   ]
  },
  {
   "cell_type": "code",
   "execution_count": 44,
   "id": "fcc086a8",
   "metadata": {},
   "outputs": [
    {
     "data": {
      "text/html": [
       "<div>\n",
       "<style scoped>\n",
       "    .dataframe tbody tr th:only-of-type {\n",
       "        vertical-align: middle;\n",
       "    }\n",
       "\n",
       "    .dataframe tbody tr th {\n",
       "        vertical-align: top;\n",
       "    }\n",
       "\n",
       "    .dataframe thead th {\n",
       "        text-align: right;\n",
       "    }\n",
       "</style>\n",
       "<table border=\"1\" class=\"dataframe\">\n",
       "  <thead>\n",
       "    <tr style=\"text-align: right;\">\n",
       "      <th></th>\n",
       "      <th>Model Name</th>\n",
       "      <th>R2_Score</th>\n",
       "    </tr>\n",
       "  </thead>\n",
       "  <tbody>\n",
       "    <tr>\n",
       "      <th>2</th>\n",
       "      <td>Ridge</td>\n",
       "      <td>0.732149</td>\n",
       "    </tr>\n",
       "    <tr>\n",
       "      <th>0</th>\n",
       "      <td>Linear Regression</td>\n",
       "      <td>0.731819</td>\n",
       "    </tr>\n",
       "    <tr>\n",
       "      <th>7</th>\n",
       "      <td>CatBoosting Regressor</td>\n",
       "      <td>0.725752</td>\n",
       "    </tr>\n",
       "    <tr>\n",
       "      <th>5</th>\n",
       "      <td>Random Forest Regressor</td>\n",
       "      <td>0.712896</td>\n",
       "    </tr>\n",
       "    <tr>\n",
       "      <th>8</th>\n",
       "      <td>AdaBoost Regressor</td>\n",
       "      <td>0.698257</td>\n",
       "    </tr>\n",
       "    <tr>\n",
       "      <th>6</th>\n",
       "      <td>XGBRegressor</td>\n",
       "      <td>0.673221</td>\n",
       "    </tr>\n",
       "    <tr>\n",
       "      <th>4</th>\n",
       "      <td>Decision Tree</td>\n",
       "      <td>0.632197</td>\n",
       "    </tr>\n",
       "    <tr>\n",
       "      <th>3</th>\n",
       "      <td>K-Neighbors Regressor</td>\n",
       "      <td>0.391970</td>\n",
       "    </tr>\n",
       "    <tr>\n",
       "      <th>1</th>\n",
       "      <td>Lasso</td>\n",
       "      <td>-0.015544</td>\n",
       "    </tr>\n",
       "  </tbody>\n",
       "</table>\n",
       "</div>"
      ],
      "text/plain": [
       "                Model Name  R2_Score\n",
       "2                    Ridge  0.732149\n",
       "0        Linear Regression  0.731819\n",
       "7    CatBoosting Regressor  0.725752\n",
       "5  Random Forest Regressor  0.712896\n",
       "8       AdaBoost Regressor  0.698257\n",
       "6             XGBRegressor  0.673221\n",
       "4            Decision Tree  0.632197\n",
       "3    K-Neighbors Regressor  0.391970\n",
       "1                    Lasso -0.015544"
      ]
     },
     "execution_count": 44,
     "metadata": {},
     "output_type": "execute_result"
    }
   ],
   "source": [
    "pd.DataFrame(list(zip(model_list, r2_list)), columns=['Model Name', 'R2_Score']).sort_values(by=[\"R2_Score\"],ascending=False)"
   ]
  },
  {
   "cell_type": "markdown",
   "id": "af0a2f0a",
   "metadata": {},
   "source": [
    "# Linear Regression"
   ]
  },
  {
   "cell_type": "code",
   "execution_count": 45,
   "id": "f44cbcc5",
   "metadata": {},
   "outputs": [
    {
     "name": "stdout",
     "output_type": "stream",
     "text": [
      " Accuracy of the model is 73.18\n"
     ]
    }
   ],
   "source": [
    "lin_model = LinearRegression(fit_intercept=True)\n",
    "lin_model = lin_model.fit(X_train, y_train)\n",
    "y_pred = lin_model.predict(X_test)\n",
    "score = r2_score(y_test, y_pred)*100\n",
    "print(\" Accuracy of the model is %.2f\" %score)"
   ]
  },
  {
   "cell_type": "markdown",
   "id": "22b8a89f",
   "metadata": {},
   "source": [
    "## Plot y_pred and y_test"
   ]
  },
  {
   "cell_type": "code",
   "execution_count": 46,
   "id": "b3c69297",
   "metadata": {},
   "outputs": [
    {
     "data": {
      "image/png": "[encoded data removed]",
      "text/plain": [
       "<Figure size 432x288 with 1 Axes>"
      ]
     },
     "metadata": {
      "needs_background": "light"
     },
     "output_type": "display_data"
    }
   ],
   "source": [
    "plt.scatter(y_test,y_pred);\n",
    "plt.xlabel('Actual');\n",
    "plt.ylabel('Predicted');"
   ]
  },
  {
   "cell_type": "code",
   "execution_count": 47,
   "id": "6107694a",
   "metadata": {},
   "outputs": [
    {
     "data": {
      "image/png": "[encoded data removed]",
      "text/plain": [
       "<Figure size 432x288 with 1 Axes>"
      ]
     },
     "metadata": {
      "needs_background": "light"
     },
     "output_type": "display_data"
    }
   ],
   "source": [
    "sns.regplot(x=y_test,y=y_pred,ci=None,color ='red');"
   ]
  },
  {
   "cell_type": "markdown",
   "id": "db32baab",
   "metadata": {},
   "source": [
    "#### Difference between Actual and Predicted Values"
   ]
  },
  {
   "cell_type": "code",
   "execution_count": 48,
   "id": "d7fc14c9",
   "metadata": {},
   "outputs": [
    {
     "data": {
      "text/html": [
       "<div>\n",
       "<style scoped>\n",
       "    .dataframe tbody tr th:only-of-type {\n",
       "        vertical-align: middle;\n",
       "    }\n",
       "\n",
       "    .dataframe tbody tr th {\n",
       "        vertical-align: top;\n",
       "    }\n",
       "\n",
       "    .dataframe thead th {\n",
       "        text-align: right;\n",
       "    }\n",
       "</style>\n",
       "<table border=\"1\" class=\"dataframe\">\n",
       "  <thead>\n",
       "    <tr style=\"text-align: right;\">\n",
       "      <th></th>\n",
       "      <th>Actual Value</th>\n",
       "      <th>Predicted Value</th>\n",
       "      <th>Difference</th>\n",
       "    </tr>\n",
       "  </thead>\n",
       "  <tbody>\n",
       "    <tr>\n",
       "      <th>521</th>\n",
       "      <td>1.691895</td>\n",
       "      <td>0.656817</td>\n",
       "      <td>1.035078</td>\n",
       "    </tr>\n",
       "    <tr>\n",
       "      <th>737</th>\n",
       "      <td>-0.929808</td>\n",
       "      <td>-0.447239</td>\n",
       "      <td>-0.482568</td>\n",
       "    </tr>\n",
       "    <tr>\n",
       "      <th>740</th>\n",
       "      <td>0.932981</td>\n",
       "      <td>0.684300</td>\n",
       "      <td>0.248682</td>\n",
       "    </tr>\n",
       "    <tr>\n",
       "      <th>660</th>\n",
       "      <td>0.519028</td>\n",
       "      <td>0.648211</td>\n",
       "      <td>-0.129183</td>\n",
       "    </tr>\n",
       "    <tr>\n",
       "      <th>411</th>\n",
       "      <td>1.208950</td>\n",
       "      <td>1.411255</td>\n",
       "      <td>-0.202305</td>\n",
       "    </tr>\n",
       "    <tr>\n",
       "      <th>...</th>\n",
       "      <td>...</td>\n",
       "      <td>...</td>\n",
       "      <td>...</td>\n",
       "    </tr>\n",
       "    <tr>\n",
       "      <th>408</th>\n",
       "      <td>-0.998800</td>\n",
       "      <td>-1.468135</td>\n",
       "      <td>0.469335</td>\n",
       "    </tr>\n",
       "    <tr>\n",
       "      <th>332</th>\n",
       "      <td>-0.308878</td>\n",
       "      <td>-0.235197</td>\n",
       "      <td>-0.073681</td>\n",
       "    </tr>\n",
       "    <tr>\n",
       "      <th>208</th>\n",
       "      <td>0.519028</td>\n",
       "      <td>0.134975</td>\n",
       "      <td>0.384053</td>\n",
       "    </tr>\n",
       "    <tr>\n",
       "      <th>613</th>\n",
       "      <td>-0.101901</td>\n",
       "      <td>0.054820</td>\n",
       "      <td>-0.156721</td>\n",
       "    </tr>\n",
       "    <tr>\n",
       "      <th>78</th>\n",
       "      <td>-0.377870</td>\n",
       "      <td>-0.190498</td>\n",
       "      <td>-0.187372</td>\n",
       "    </tr>\n",
       "  </tbody>\n",
       "</table>\n",
       "<p>200 rows × 3 columns</p>\n",
       "</div>"
      ],
      "text/plain": [
       "     Actual Value  Predicted Value  Difference\n",
       "521      1.691895         0.656817    1.035078\n",
       "737     -0.929808        -0.447239   -0.482568\n",
       "740      0.932981         0.684300    0.248682\n",
       "660      0.519028         0.648211   -0.129183\n",
       "411      1.208950         1.411255   -0.202305\n",
       "..            ...              ...         ...\n",
       "408     -0.998800        -1.468135    0.469335\n",
       "332     -0.308878        -0.235197   -0.073681\n",
       "208      0.519028         0.134975    0.384053\n",
       "613     -0.101901         0.054820   -0.156721\n",
       "78      -0.377870        -0.190498   -0.187372\n",
       "\n",
       "[200 rows x 3 columns]"
      ]
     },
     "execution_count": 48,
     "metadata": {},
     "output_type": "execute_result"
    }
   ],
   "source": [
    "pred_df=pd.DataFrame({'Actual Value':y_test,'Predicted Value':y_pred,'Difference':y_test-y_pred})\n",
    "pred_df"
   ]
  }
 ],
 "metadata": {
  "kernelspec": {
   "display_name": "Python 3 (ipykernel)",
   "language": "python",
   "name": "python3"
  },
  "language_info": {
   "codemirror_mode": {
    "name": "ipython",
    "version": 3
   },
   "file_extension": ".py",
   "mimetype": "text/x-python",
   "name": "python",
   "nbconvert_exporter": "python",
   "pygments_lexer": "ipython3",
   "version": "3.9.7"
  }
 },
 "nbformat": 4,
 "nbformat_minor": 5
}
